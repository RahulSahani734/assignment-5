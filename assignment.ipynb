{
 "cells": [
  {
   "cell_type": "markdown",
   "id": "63c626fc-6d73-4486-a05f-e0584fe60ef5",
   "metadata": {},
   "source": [
    "ANSWER 1 "
   ]
  },
  {
   "cell_type": "code",
   "execution_count": null,
   "id": "c341f161-1ed3-4112-bc3e-7d76aa88ba13",
   "metadata": {},
   "outputs": [],
   "source": [
    "In Python, an exception is an error that occurs during the execution of a program. When an exceptional situation\n",
    "arises, Python raises an exception, which interrupts the normal flow of the program and transfers control to an\n",
    "exception handler. Exceptions allow you to handle errors and unexpected situations gracefully, rather than \n",
    "abruptly terminating the program"
   ]
  },
  {
   "cell_type": "code",
   "execution_count": null,
   "id": "7f57759c-e661-42fe-afb5-6f233eaec7f1",
   "metadata": {},
   "outputs": [],
   "source": []
  },
  {
   "cell_type": "markdown",
   "id": "cb638f9c-5d35-4640-abe0-18b191b02cd1",
   "metadata": {},
   "source": [
    "ANSWER 2"
   ]
  },
  {
   "cell_type": "code",
   "execution_count": null,
   "id": "1c921860-b6f0-4cc0-95d2-8f7e95cb8da7",
   "metadata": {},
   "outputs": [],
   "source": [
    "When an exception is not handled in Python, it leads to an unhandled exception, which causes the program to terminate abruptly.\n",
    "The default behavior in Python is to print a traceback message that shows the exception type, the line of code where the exception \n",
    "occurred, and the call stack leading to that point. After printing the traceback, the program exits, and any remaining code or operations\n",
    "are not executed."
   ]
  },
  {
   "cell_type": "code",
   "execution_count": null,
   "id": "826fbaed-31a4-4de5-8f54-7c92e2e6af2a",
   "metadata": {},
   "outputs": [],
   "source": [
    "\n",
    "\n",
    "#example\n",
    "def divide_numbers(a, b):\n",
    "    result = a / b\n",
    "    return result\n",
    "\n",
    "# Main code\n",
    "num1 = 10\n",
    "num2 = 0\n",
    "\n",
    "result = divide_numbers(num1, num2)\n",
    "print(\"Result:\", result)"
   ]
  },
  {
   "cell_type": "markdown",
   "id": "12268542-14e8-4b6f-9247-3f30882c3f49",
   "metadata": {},
   "source": []
  },
  {
   "cell_type": "code",
   "execution_count": null,
   "id": "3e17546a-2005-45d5-89e9-31559b04ce6f",
   "metadata": {},
   "outputs": [],
   "source": []
  },
  {
   "cell_type": "markdown",
   "id": "12353c55-7d17-4222-b7bb-bf0689fa519f",
   "metadata": {},
   "source": [
    "ANSWER 3"
   ]
  },
  {
   "cell_type": "markdown",
   "id": "30535ef9-b2dc-47fd-a70f-e5a8b80d1fed",
   "metadata": {},
   "source": [
    "In Python, the try-except statement is used to catch and handle exceptions. The try block contains the code that might raise an exception, and the except block specifies the code to be executed when a specific exception is raised."
   ]
  },
  {
   "cell_type": "code",
   "execution_count": 8,
   "id": "f3f4a840-881a-4614-903a-6cbe109b671d",
   "metadata": {},
   "outputs": [],
   "source": [
    "def divide_numbers(a, b):\n",
    "    try:\n",
    "        result = a / b\n",
    "        print(\"Result:\", result)\n",
    "    except ZeroDivisionError:\n",
    "        print(\"Error: Division by zero is not allowed.\")\n",
    "\n",
    "# Main code\n",
    "num1 = 10\n",
    "num2 = 0"
   ]
  },
  {
   "cell_type": "code",
   "execution_count": null,
   "id": "955b4de0-5983-4036-bd6a-9fd35670aeb3",
   "metadata": {},
   "outputs": [],
   "source": []
  },
  {
   "cell_type": "code",
   "execution_count": null,
   "id": "76dff9c8-319e-46a5-9c50-59529039a023",
   "metadata": {},
   "outputs": [],
   "source": []
  },
  {
   "cell_type": "markdown",
   "id": "08dcfa97-c28d-4f0f-bfd8-83e5e7894746",
   "metadata": {},
   "source": [
    "ANSWER 4"
   ]
  },
  {
   "cell_type": "markdown",
   "id": "add9928c-3f91-4d94-9d23-0a9fe33f41ef",
   "metadata": {},
   "source": [
    "a. try and else"
   ]
  },
  {
   "cell_type": "code",
   "execution_count": null,
   "id": "fcef1562-133e-4f2e-ab72-8ec74243256f",
   "metadata": {},
   "outputs": [],
   "source": [
    "The try-else statement is used when you want to specify a block of code to be executed if no exceptions are raised\n",
    "in the try block. The else block is executed immediately after the try block, but only if no exceptions occurred."
   ]
  },
  {
   "cell_type": "code",
   "execution_count": null,
   "id": "0bf26986-d45b-4a35-aae9-9e28f8b38d44",
   "metadata": {},
   "outputs": [],
   "source": [
    "\n",
    "try:\n",
    "    num1 = int(input(\"Enter a number: \"))\n",
    "    num2 = int(input(\"Enter another number: \"))\n",
    "    result = num1 / num2\n",
    "except ValueError:\n",
    "    print(\"Invalid input. Please enter numbers.\")\n",
    "except ZeroDivisionError:\n",
    "    print(\"Error: Division by zero is not allowed.\")\n",
    "else:\n",
    "    print(\"The division result is:\", result)"
   ]
  },
  {
   "cell_type": "markdown",
   "id": "ced32fd3-1242-416e-9b7b-7ef67e2a852d",
   "metadata": {},
   "source": [
    "b. finally:"
   ]
  },
  {
   "cell_type": "code",
   "execution_count": null,
   "id": "3e09543e-e89b-46b3-9e08-3a061cdacc5c",
   "metadata": {},
   "outputs": [],
   "source": [
    "The finally block is used to specify a block of code that will be executed regardless of whether an exception\n",
    "was raised or not. It ensures that certain cleanup or finalization tasks are performed, such as closing files\n",
    "or releasing resources, irrespective of whether an exception occurred."
   ]
  },
  {
   "cell_type": "code",
   "execution_count": 9,
   "id": "4c7abb5f-b388-47db-9471-709f06a71f60",
   "metadata": {},
   "outputs": [
    {
     "name": "stdout",
     "output_type": "stream",
     "text": [
      "Error: File not found.\n"
     ]
    }
   ],
   "source": [
    "file = None\n",
    "try:\n",
    "    file = open(\"data.txt\", \"r\")\n",
    "    content = file.read()\n",
    "    print(\"File content:\", content)\n",
    "except FileNotFoundError:\n",
    "    print(\"Error: File not found.\")\n",
    "finally:\n",
    "    if file is not None:\n",
    "        file.close()\n",
    "        print(\"File closed.\")"
   ]
  },
  {
   "cell_type": "code",
   "execution_count": null,
   "id": "cc6e31f8-c9a4-4031-8634-301053b255cd",
   "metadata": {},
   "outputs": [],
   "source": []
  },
  {
   "cell_type": "markdown",
   "id": "716d949d-b2d2-400e-8f3d-a1eb156e16c0",
   "metadata": {},
   "source": [
    "c. raise:"
   ]
  },
  {
   "cell_type": "code",
   "execution_count": null,
   "id": "a8a05ce6-a890-4aae-941e-1f65ee3a9133",
   "metadata": {},
   "outputs": [],
   "source": [
    "The raise statement is used to manually raise an exception in Python. It allows you to generate and raise\n",
    "exceptions based on specific conditions or custom logic."
   ]
  },
  {
   "cell_type": "code",
   "execution_count": 10,
   "id": "1d7a4d23-b8ce-4f30-903c-95653564a4a1",
   "metadata": {},
   "outputs": [
    {
     "name": "stdin",
     "output_type": "stream",
     "text": [
      "Enter a number:  5\n"
     ]
    },
    {
     "name": "stdout",
     "output_type": "stream",
     "text": [
      "Factorial: 120\n"
     ]
    }
   ],
   "source": [
    "def calculate_factorial(n):\n",
    "    if n < 0:\n",
    "        raise ValueError(\"Factorial is not defined for negative numbers.\")\n",
    "    factorial = 1\n",
    "    for i in range(1, n + 1):\n",
    "        factorial *= i\n",
    "    return factorial\n",
    "\n",
    "try:\n",
    "    number = int(input(\"Enter a number: \"))\n",
    "    result = calculate_factorial(number)\n",
    "    print(\"Factorial:\", result)\n",
    "except ValueError as e:\n",
    "    print(\"Error:\", str(e))"
   ]
  },
  {
   "cell_type": "code",
   "execution_count": null,
   "id": "e5d7a308-0ffc-4565-8af7-5eb022feefef",
   "metadata": {},
   "outputs": [],
   "source": []
  },
  {
   "cell_type": "markdown",
   "id": "1ee35d92-acbb-4350-a174-26b435500e12",
   "metadata": {},
   "source": [
    "ANSWER 5\n"
   ]
  },
  {
   "cell_type": "code",
   "execution_count": null,
   "id": "f1cfd104-ca69-4960-89d0-7b9043799e3f",
   "metadata": {},
   "outputs": [],
   "source": [
    "Custom exceptions in Python are user-defined exceptions that inherit from the built-in Exception class or any of \n",
    "its subclasses. They allow you to create specialized exception types tailored to your specific application or\n",
    "problem domain"
   ]
  },
  {
   "cell_type": "code",
   "execution_count": null,
   "id": "9fa56072-d857-4de4-8d2c-86e2b8b20c35",
   "metadata": {},
   "outputs": [],
   "source": [
    "We need custom exceptions in Python for the following reasons:"
   ]
  },
  {
   "cell_type": "code",
   "execution_count": null,
   "id": "4829a9cf-41c6-4c8b-85e9-93952d985868",
   "metadata": {},
   "outputs": [],
   "source": [
    "Clear and informative error messages: By creating custom exceptions, you can provide more specific\n",
    "and meaningful error messages that help in understanding and troubleshooting issues within your code\n",
    "Custom exceptions can convey the nature of the error or exceptional condition more accurately."
   ]
  },
  {
   "cell_type": "code",
   "execution_count": null,
   "id": "a901e009-b30b-49ff-aea6-c5607ede99d6",
   "metadata": {},
   "outputs": [],
   "source": [
    "Modularity and code organization: Custom exceptions help in structuring your code and separating different \n",
    "types of errors or exceptional situations into distinct exception classes. This promotes modularity and make\n",
    "the code more readable and maintainable."
   ]
  },
  {
   "cell_type": "code",
   "execution_count": null,
   "id": "87478f3a-4670-4d12-a35c-bcebba09674f",
   "metadata": {},
   "outputs": [],
   "source": [
    "Exception handling and error-specific actions: Custom exceptions allow you to handle different types\n",
    "of errors or exceptional situations differently. You can catch specific custom exceptions and perform\n",
    "specialized actions or error recovery procedures based on the specific exception type."
   ]
  },
  {
   "cell_type": "code",
   "execution_count": 13,
   "id": "1a888b8b-46a2-43ca-9374-3453e6b0b613",
   "metadata": {},
   "outputs": [
    {
     "name": "stdout",
     "output_type": "stream",
     "text": [
      "Error: Insufficient funds.\n"
     ]
    }
   ],
   "source": [
    "class WithdrawalError(Exception):\n",
    "    pass\n",
    "\n",
    "class BankAccount:\n",
    "    def __init__(self, balance):\n",
    "        self.balance = balance\n",
    "\n",
    "    def withdraw(self, amount):\n",
    "        if amount > self.balance:\n",
    "            raise WithdrawalError(\"Insufficient funds.\")\n",
    "        self.balance -= amount\n",
    "        print(\"Withdrawal successful. Remaining balance:\", self.balance)\n",
    "\n",
    "# Example usage\n",
    "account = BankAccount(1000)\n",
    "try:\n",
    "    account.withdraw(1500)\n",
    "except WithdrawalError as e:\n",
    "    print(\"Error:\", str(e))\n"
   ]
  },
  {
   "cell_type": "code",
   "execution_count": null,
   "id": "4088da52-186a-4aec-a745-687dc0cbdbad",
   "metadata": {},
   "outputs": [],
   "source": []
  },
  {
   "cell_type": "markdown",
   "id": "76366769-b584-4895-a9e0-98bea9c7e275",
   "metadata": {},
   "source": [
    "ANSWER 6\n"
   ]
  },
  {
   "cell_type": "code",
   "execution_count": null,
   "id": "61d98e64-2e9a-4133-a488-a4c8810c483d",
   "metadata": {},
   "outputs": [],
   "source": []
  }
 ],
 "metadata": {
  "kernelspec": {
   "display_name": "Python 3 (ipykernel)",
   "language": "python",
   "name": "python3"
  },
  "language_info": {
   "codemirror_mode": {
    "name": "ipython",
    "version": 3
   },
   "file_extension": ".py",
   "mimetype": "text/x-python",
   "name": "python",
   "nbconvert_exporter": "python",
   "pygments_lexer": "ipython3",
   "version": "3.10.8"
  }
 },
 "nbformat": 4,
 "nbformat_minor": 5
}
